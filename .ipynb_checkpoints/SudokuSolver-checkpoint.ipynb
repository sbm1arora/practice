{
 "cells": [
  {
   "cell_type": "code",
   "execution_count": 17,
   "metadata": {},
   "outputs": [
    {
     "name": "stdout",
     "output_type": "stream",
     "text": [
      "[[3 0 6 5 0 8 4 0 0]\n",
      " [5 2 0 0 0 0 0 0 0]\n",
      " [0 8 7 0 0 0 0 3 1]\n",
      " [0 0 3 0 1 0 0 8 0]\n",
      " [9 0 0 8 6 3 0 0 5]\n",
      " [0 5 0 0 9 0 6 0 0]\n",
      " [1 3 0 0 0 0 2 5 0]\n",
      " [0 0 0 0 0 0 0 7 4]\n",
      " [0 0 5 2 0 6 3 0 0]]\n"
     ]
    }
   ],
   "source": [
    "import numpy as np\n",
    "grid=[[3,0,6,5,0,8,4,0,0], \n",
    "      [5,2,0,0,0,0,0,0,0], \n",
    "      [0,8,7,0,0,0,0,3,1], \n",
    "      [0,0,3,0,1,0,0,8,0], \n",
    "      [9,0,0,8,6,3,0,0,5], \n",
    "      [0,5,0,0,9,0,6,0,0], \n",
    "      [1,3,0,0,0,0,2,5,0], \n",
    "      [0,0,0,0,0,0,0,7,4], \n",
    "      [0,0,5,2,0,6,3,0,0]]\n",
    "print(np.matrix(grid))"
   ]
  },
  {
   "cell_type": "code",
   "execution_count": 14,
   "metadata": {},
   "outputs": [],
   "source": [
    "def possible(x, y, n) :\n",
    "    for i in range(9):\n",
    "        if grid[i][y] == n:\n",
    "            return False\n",
    "    for i in range(9):\n",
    "        if grid[x][i] == n:\n",
    "            return False\n",
    "    x0 = (x // 3) * 3\n",
    "    y0 = (y // 3) * 3\n",
    "    for i in range(3):\n",
    "        for j in range(3):\n",
    "            if grid[x0 + i][y0 + j] == n:\n",
    "                return False\n",
    "    return True"
   ]
  },
  {
   "cell_type": "code",
   "execution_count": 15,
   "metadata": {},
   "outputs": [],
   "source": [
    "def ans():\n",
    "    global grid\n",
    "    for i in range(9):\n",
    "        for j in range(9):\n",
    "            if grid[i][j] == 0:\n",
    "                for k in range(1, 10):\n",
    "                    if possible(i, j, k):\n",
    "                        grid[i][j] = k\n",
    "                        ans()\n",
    "                        grid[i][j] = 0\n",
    "                return\n",
    "    print(np.matrix(grid))\n",
    "    input(\"Press Enter to Continue\")"
   ]
  },
  {
   "cell_type": "code",
   "execution_count": 16,
   "metadata": {},
   "outputs": [
    {
     "name": "stdout",
     "output_type": "stream",
     "text": [
      "[[3 1 6 5 7 8 4 9 2]\n",
      " [5 2 9 1 3 4 7 6 8]\n",
      " [4 8 7 6 2 9 5 3 1]\n",
      " [2 6 3 4 1 5 9 8 7]\n",
      " [9 7 4 8 6 3 1 2 5]\n",
      " [8 5 1 7 9 2 6 4 3]\n",
      " [1 3 8 9 4 7 2 5 6]\n",
      " [6 9 2 3 5 1 8 7 4]\n",
      " [7 4 5 2 8 6 3 1 9]]\n",
      "Press Enter to Continue\n"
     ]
    }
   ],
   "source": [
    "ans()"
   ]
  },
  {
   "cell_type": "code",
   "execution_count": null,
   "metadata": {},
   "outputs": [],
   "source": []
  }
 ],
 "metadata": {
  "kernelspec": {
   "display_name": "Python 3",
   "language": "python",
   "name": "python3"
  },
  "language_info": {
   "codemirror_mode": {
    "name": "ipython",
    "version": 3
   },
   "file_extension": ".py",
   "mimetype": "text/x-python",
   "name": "python",
   "nbconvert_exporter": "python",
   "pygments_lexer": "ipython3",
   "version": "3.7.5"
  }
 },
 "nbformat": 4,
 "nbformat_minor": 2
}
